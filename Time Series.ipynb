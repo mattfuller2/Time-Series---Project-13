{
 "cells": [
  {
   "cell_type": "markdown",
   "metadata": {},
   "source": [
    "<div style=\"border-radius: 15px; border: 3px solid indigo; padding: 15px;\">\n",
    "<b> Reviewer's comment 5</b>\n",
    "    \n",
    "Everything is correct now, thank you very much for your diligence! I do not have any questions, so the project can be accepted. Good luck! \n",
    "    \n",
    "</div>"
   ]
  },
  {
   "cell_type": "markdown",
   "metadata": {},
   "source": [
    "<div style=\"border-radius: 15px; border: 3px solid indigo; padding: 15px;\">\n",
    "<b> Reviewer's comment 4</b>\n",
    "    \n",
    "Please take a look at my new comment with digit 4. The issue was not resolved. \n",
    "    \n",
    "</div>"
   ]
  },
  {
   "cell_type": "markdown",
   "metadata": {},
   "source": [
    "<div style=\"border-radius: 15px; border: 3px solid indigo; padding: 15px;\">\n",
    "<b> Reviewer's comment 3</b>\n",
    "    \n",
    "There's only one issue this time. Would you take a look at my new comments have digit 3? \n",
    "    \n",
    "</div>"
   ]
  },
  {
   "cell_type": "markdown",
   "metadata": {},
   "source": [
    "<div style=\"border-radius: 15px; border: 3px solid indigo; padding: 15px;\">\n",
    "<b> Reviewer's comment 2</b>\n",
    "    \n",
    "Thank you for updates! My new comments have digit 2. Would you please take a look? \n",
    "    \n",
    "</div>"
   ]
  },
  {
   "cell_type": "markdown",
   "metadata": {},
   "source": [
    "<div style=\"border-radius: 15px; border: 3px solid indigo; padding: 15px;\">\n",
    "<b> Reviewer's comment</b>\n",
    "    \n",
    "Hi, Matthew! I am a reviewer on this project. \n",
    "    \n",
    "\n",
    "Before we start, I want to pay your attention to the color marking:\n",
    "    \n",
    "<div class=\"alert alert-success\" style=\"border-radius: 15px; box-shadow: 4px 4px 4px; border: 1px solid \">\n",
    "<b> Reviewer's comment ✔️</b>\n",
    "    \n",
    "Great solutions and ideas that can and should be used in the future are in green comments.   \n",
    "</div>    \n",
    "    \n",
    "    \n",
    "<div class=\"alert alert-warning\" style=\"border-radius: 15px; box-shadow: 4px 4px 4px; border: 1px solid \">\n",
    "<b> Reviewer's comment ⚠️</b>\n",
    "\n",
    "Yellow color indicates what should be optimized. This is not necessary, but it will be great if you make changes to this project.\n",
    "</div>      \n",
    "    \n",
    "    \n",
    "<div class=\"alert alert-danger\" style=\"border-radius: 15px; box-shadow: 4px 4px 4px; border: 1px solid \">\n",
    "<b> Reviewer's comment ❌</b>\n",
    "\n",
    "Issues that need to be corrected to get right results are indicated in red comments. Note that the project cannot be accepted until these issues are resolved.\n",
    "</div>    \n",
    "\n",
    "<hr>\n",
    "    \n",
    "**Please, use some color other than those listed to highlight answers to my comments.**\n",
    "I would also ask you **not to change, move or delete my comments** so that it would be easier for me to navigate during the next review.\n",
    "    \n",
    "In addition, my comments are defined as headings. \n",
    "They can mess up the content; however, they are convenient, since you can immediately go to them. I will remove the headings from my comments in the next review. \n",
    "   \n",
    "    \n",
    "    \n",
    "<hr>\n",
    "    \n",
    "<font color='dodgerblue'>**A few words about the project:**</font> thank you very much for submitting the project! You did a fantastic job here, and I hope you enjoyed this topic. You have successfully trained several models and analyzed time series, which is great! However, there're a couple of issues that need your attention. Would you take a look at my comments?\n",
    "    \n",
    "\n",
    "</div>"
   ]
  },
  {
   "cell_type": "markdown",
   "metadata": {},
   "source": [
    "# Project description\n",
    "\n",
    "Sweet Lift Taxi company has collected historical data on taxi orders at airports. To attract more drivers during peak hours, we need to predict the amount of taxi orders for the next hour. Build a model for such a prediction.\n",
    "\n",
    "The RMSE metric on the test set should not be more than 48.\n",
    "\n",
    "## Project instructions\n",
    "\n",
    "1. Download the data and resample it by one hour.\n",
    "2. Analyze the data.\n",
    "3. Train different models with different hyperparameters. The test sample should be 10% of the initial dataset. \n",
    "4. Test the data using the test sample and provide a conclusion.\n",
    "\n",
    "## Data description\n",
    "\n",
    "The data is stored in file `taxi.csv`. The number of orders is in the '*num_orders*' column."
   ]
  },
  {
   "cell_type": "markdown",
   "metadata": {},
   "source": [
    "<div class=\"alert alert-success\" style=\"border-radius: 15px; box-shadow: 4px 4px 4px; border: 1px solid \">\n",
    "<h2>   Reviewer's comment </h2>\n",
    "    \n",
    "Good introduction! \n",
    "\n",
    "</div>\n",
    "<div class=\"alert alert-warning\" style=\"border-radius: 15px; box-shadow: 4px 4px 4px; border: 1px solid \">\n",
    "<h2>  Reviewer's comment </h2>\n",
    "    \n",
    "\n",
    "Don't forget about project title :) \n",
    "\n",
    "</div>"
   ]
  },
  {
   "cell_type": "markdown",
   "metadata": {},
   "source": [
    "## Preparation"
   ]
  },
  {
   "cell_type": "code",
   "execution_count": 1,
   "metadata": {},
   "outputs": [
    {
     "name": "stdout",
     "output_type": "stream",
     "text": [
      "<class 'pandas.core.frame.DataFrame'>\n",
      "DatetimeIndex: 26496 entries, 2018-03-01 00:00:00 to 2018-08-31 23:50:00\n",
      "Data columns (total 1 columns):\n",
      " #   Column      Non-Null Count  Dtype\n",
      "---  ------      --------------  -----\n",
      " 0   num_orders  26496 non-null  int64\n",
      "dtypes: int64(1)\n",
      "memory usage: 414.0 KB\n"
     ]
    },
    {
     "data": {
      "text/html": [
       "<div>\n",
       "<style scoped>\n",
       "    .dataframe tbody tr th:only-of-type {\n",
       "        vertical-align: middle;\n",
       "    }\n",
       "\n",
       "    .dataframe tbody tr th {\n",
       "        vertical-align: top;\n",
       "    }\n",
       "\n",
       "    .dataframe thead th {\n",
       "        text-align: right;\n",
       "    }\n",
       "</style>\n",
       "<table border=\"1\" class=\"dataframe\">\n",
       "  <thead>\n",
       "    <tr style=\"text-align: right;\">\n",
       "      <th></th>\n",
       "      <th>num_orders</th>\n",
       "    </tr>\n",
       "    <tr>\n",
       "      <th>datetime</th>\n",
       "      <th></th>\n",
       "    </tr>\n",
       "  </thead>\n",
       "  <tbody>\n",
       "    <tr>\n",
       "      <th>2018-03-01 00:00:00</th>\n",
       "      <td>9</td>\n",
       "    </tr>\n",
       "    <tr>\n",
       "      <th>2018-03-01 00:10:00</th>\n",
       "      <td>14</td>\n",
       "    </tr>\n",
       "    <tr>\n",
       "      <th>2018-03-01 00:20:00</th>\n",
       "      <td>28</td>\n",
       "    </tr>\n",
       "    <tr>\n",
       "      <th>2018-03-01 00:30:00</th>\n",
       "      <td>20</td>\n",
       "    </tr>\n",
       "    <tr>\n",
       "      <th>2018-03-01 00:40:00</th>\n",
       "      <td>32</td>\n",
       "    </tr>\n",
       "  </tbody>\n",
       "</table>\n",
       "</div>"
      ],
      "text/plain": [
       "                     num_orders\n",
       "datetime                       \n",
       "2018-03-01 00:00:00           9\n",
       "2018-03-01 00:10:00          14\n",
       "2018-03-01 00:20:00          28\n",
       "2018-03-01 00:30:00          20\n",
       "2018-03-01 00:40:00          32"
      ]
     },
     "execution_count": 1,
     "metadata": {},
     "output_type": "execute_result"
    }
   ],
   "source": [
    "# Step 1: Importing libraries\n",
    "import pandas as pd\n",
    "import numpy as np\n",
    "import matplotlib.pyplot as plt\n",
    "from sklearn.ensemble import StackingRegressor\n",
    "from sklearn.model_selection import train_test_split, GridSearchCV\n",
    "from sklearn.ensemble import RandomForestRegressor, GradientBoostingRegressor\n",
    "from xgboost import XGBRegressor\n",
    "from sklearn.metrics import mean_squared_error\n",
    "from sklearn.linear_model import LinearRegression\n",
    "\n",
    "# Step 2: Loading the dataset\n",
    "data = pd.read_csv('/datasets/taxi.csv', parse_dates=['datetime'], index_col='datetime')\n",
    "\n",
    "data.info()\n",
    "data.head()"
   ]
  },
  {
   "cell_type": "markdown",
   "metadata": {},
   "source": [
    "<div class=\"alert alert-warning\" style=\"border-radius: 15px; box-shadow: 4px 4px 4px; border: 1px solid \">\n",
    "<h2>  Reviewer's comment </h2>\n",
    "    \n",
    "\n",
    "You can read data in one cell and put imports in another. \n",
    "\n",
    "\n",
    "</div>"
   ]
  },
  {
   "cell_type": "markdown",
   "metadata": {},
   "source": [
    "## Analysis"
   ]
  },
  {
   "cell_type": "code",
   "execution_count": 2,
   "metadata": {
    "scrolled": true
   },
   "outputs": [
    {
     "data": {
      "image/png": "[encoded data removed]",
      "text/plain": [
       "<Figure size 1000x600 with 1 Axes>"
      ]
     },
     "metadata": {},
     "output_type": "display_data"
    }
   ],
   "source": [
    "# Step 3: Resample the data by 1 hour\n",
    "data_resampled = data.resample('1H').sum()\n",
    "\n",
    "# Step 4: Visualize the data\n",
    "plt.figure(figsize=(10, 6))\n",
    "plt.plot(data_resampled.index, data_resampled['num_orders'], label='Number of Orders')\n",
    "plt.title('Taxi Orders Over Time (Hourly Resampled)')\n",
    "plt.xlabel('Datetime')\n",
    "plt.ylabel('Number of Orders')\n",
    "plt.grid(True)\n",
    "plt.legend()\n",
    "plt.show()"
   ]
  },
  {
   "cell_type": "markdown",
   "metadata": {},
   "source": [
    "###### Conclusions\n",
    "There seems to be a general upward trend. This indicates growth in the demand for taxis over time.\n",
    "\n",
    "There appears to be seasonality in the data, as the number of orders fluctuates regulary."
   ]
  },
  {
   "cell_type": "markdown",
   "metadata": {},
   "source": [
    "<div class=\"alert alert-danger\" style=\"border-radius: 15px; box-shadow: 4px 4px 4px; border: 1px solid \">\n",
    "<b> Reviewer's comment  </b>\n",
    "    \n",
    "\n",
    "Please add a conclusion here. What can be inferred from this chart? \n",
    "    \n",
    "    \n",
    "    \n",
    "Is there any trend? Do we have any seasonality? \n",
    "    \n",
    "</div>\n",
    "<div class=\"alert alert-warning\" style=\"border-radius: 15px; box-shadow: 4px 4px 4px; border: 1px solid \">\n",
    "<h2>   Reviewer's comment 2 </h2>\n",
    "    \n",
    "You can also choose a shorter interval to analyze seasonality. \n",
    "    \n",
    "</div>"
   ]
  },
  {
   "cell_type": "markdown",
   "metadata": {},
   "source": [
    "## Training"
   ]
  },
  {
   "cell_type": "code",
   "execution_count": 3,
   "metadata": {},
   "outputs": [],
   "source": [
    "# Step 5: Feature Engineering\n",
    "# Create time-based features\n",
    "data_resampled['hour'] = data_resampled.index.hour\n",
    "data_resampled['day_of_week'] = data_resampled.index.dayofweek\n",
    "data_resampled['is_weekend'] = (data_resampled['day_of_week'] >= 5).astype(int)\n",
    "\n",
    "# Lag feature\n",
    "data_resampled['lag_1'] = data_resampled['num_orders'].shift(1)\n",
    "data_resampled['lag_2'] = data_resampled['num_orders'].shift(2)\n",
    "data_resampled['lag_24'] = data_resampled['num_orders'].shift(24)\n",
    "\n",
    "\n",
    "# Rolling mean feature\n",
    "data_resampled['rolling_mean_3'] = data_resampled['num_orders'].shift(1).rolling(window=3).mean()\n",
    "data_resampled['rolling_mean_24'] = data_resampled['num_orders'].rolling(window=24).mean()\n",
    "\n",
    "\n",
    "# Drop NA values resulting from shift/rolling operations\n",
    "data_resampled.dropna(inplace=True)\n"
   ]
  },
  {
   "cell_type": "markdown",
   "metadata": {},
   "source": [
    "<div class=\"alert alert-success\" style=\"border-radius: 15px; box-shadow: 4px 4px 4px; border: 1px solid \">\n",
    "<h2>   Reviewer's comment </h2>\n",
    "    \n",
    "Good. \n",
    "</div>"
   ]
  },
  {
   "cell_type": "code",
   "execution_count": 4,
   "metadata": {},
   "outputs": [],
   "source": [
    "# Step 6: Define features and target variable\n",
    "X = data_resampled.drop(columns=['num_orders'])\n",
    "y = data_resampled['num_orders']\n",
    "\n",
    "\n",
    "# Step 7: Train-test split (use the last 10% of the data for testing)\n",
    "train_size = int(0.9 * len(data_resampled))\n",
    "X_train, X_test, y_train, y_test = train_test_split(X, y, test_size=0.1, shuffle=False)\n"
   ]
  },
  {
   "cell_type": "markdown",
   "metadata": {},
   "source": [
    "<div class=\"alert alert-warning\" style=\"border-radius: 15px; box-shadow: 4px 4px 4px; border: 1px solid \">\n",
    "<b>   Reviewer's comment </b>\n",
    " \n",
    "    \n",
    "> `X = data_resampled[['hour', 'day_of_week', 'is_weekend', 'lag_1', 'rolling_mean_3']]`    \n",
    "    \n",
    "It may be easier to drop the `num_orders` :) </div>\n",
    "<div class=\"alert alert-success\" style=\"border-radius: 15px; box-shadow: 4px 4px 4px; border: 1px solid \">\n",
    "<h2>   Reviewer's comment 2 </h2>\n",
    "    \n",
    "Good. \n",
    "</div>"
   ]
  },
  {
   "cell_type": "code",
   "execution_count": 5,
   "metadata": {},
   "outputs": [
    {
     "name": "stdout",
     "output_type": "stream",
     "text": [
      "Mean RMSE from TimeSeriesSplit CV: 27.85\n"
     ]
    }
   ],
   "source": [
    "from sklearn.model_selection import TimeSeriesSplit, cross_val_score\n",
    "from sklearn.metrics import make_scorer\n",
    "\n",
    "# Define the RMSE as a scorer\n",
    "rmse_scorer = make_scorer(mean_squared_error, squared=False)\n",
    "\n",
    "# Initialize TimeSeriesSplit with 5 splits\n",
    "tscv = TimeSeriesSplit(n_splits=5)\n",
    "\n",
    "# Initialize the model (Random Forest in this case)\n",
    "rf_model = RandomForestRegressor(n_estimators=100, random_state=42)\n",
    "\n",
    "# Perform cross-validation using TimeSeriesSplit\n",
    "cv_scores = cross_val_score(rf_model, X, y, cv=tscv, scoring=rmse_scorer)\n",
    "\n",
    "# Calculate the average RMSE across all splits\n",
    "mean_rmse = np.mean(cv_scores)\n",
    "print(f\"Mean RMSE from TimeSeriesSplit CV: {mean_rmse:.2f}\")\n"
   ]
  },
  {
   "cell_type": "markdown",
   "metadata": {},
   "source": [
    "<div class=\"alert alert-success\" style=\"border-radius: 15px; box-shadow: 4px 4px 4px; border: 1px solid \">\n",
    "<h2>   Reviewer's comment 2 </h2>\n",
    "    \n",
    "Correct. \n",
    "\n",
    "</div>\n",
    "<div class=\"alert alert-warning\" style=\"border-radius: 15px; box-shadow: 4px 4px 4px; border: 1px solid \">\n",
    "<h2>   Reviewer's comment 2 </h2>\n",
    "    \n",
    "I would just take the best parameters and print the exact RMSE value. \n",
    "\n",
    "</div>"
   ]
  },
  {
   "cell_type": "code",
   "execution_count": 6,
   "metadata": {},
   "outputs": [
    {
     "name": "stdout",
     "output_type": "stream",
     "text": [
      "Average RMSE across TimeSeriesSplit folds: 24.44830142373624\n",
      "Final Stacking Model RMSE on the test set: 41.7709795757271\n"
     ]
    }
   ],
   "source": [
    "from sklearn.model_selection import TimeSeriesSplit\n",
    "from sklearn.linear_model import LinearRegression\n",
    "from sklearn.ensemble import RandomForestRegressor, GradientBoostingRegressor, StackingRegressor\n",
    "from xgboost import XGBRegressor\n",
    "from sklearn.metrics import mean_squared_error\n",
    "import numpy as np\n",
    "\n",
    "# Define base models\n",
    "base_models = [\n",
    "    ('linear_regression', LinearRegression()),\n",
    "    ('random_forest', RandomForestRegressor(n_estimators=100, random_state=42)),\n",
    "    ('gradient_boosting', GradientBoostingRegressor(n_estimators=100, max_depth=5, random_state=42)),\n",
    "    ('xgboost', XGBRegressor(n_estimators=100, max_depth=5, learning_rate=0.1, random_state=42))\n",
    "]\n",
    "\n",
    "# Define the meta-model (final estimator)\n",
    "meta_model = LinearRegression()\n",
    "\n",
    "# Placeholder for RMSE scores\n",
    "rmse_scores = []\n",
    "\n",
    "# Loop over the TimeSeriesSplit folds manually\n",
    "for train_index, test_index in tscv.split(X_train):\n",
    "    # Use .iloc to select data in pandas DataFrame\n",
    "    X_train_fold, X_test_fold = X_train.iloc[train_index], X_train.iloc[test_index]\n",
    "    y_train_fold, y_test_fold = y_train.iloc[train_index], y_train.iloc[test_index]\n",
    "\n",
    "    # Create the Stacking Regressor\n",
    "    stacking_regressor = StackingRegressor(\n",
    "        estimators=base_models,\n",
    "        final_estimator=meta_model,\n",
    "        passthrough=False  # If True, it passes the original features along with predictions from base models\n",
    "    )\n",
    "    \n",
    "    # Train the Stacking Regressor on the fold\n",
    "    stacking_regressor.fit(X_train_fold, y_train_fold)\n",
    "    \n",
    "    # Make predictions on the validation set (test part of the fold)\n",
    "    y_pred_fold = stacking_regressor.predict(X_test_fold)\n",
    "    \n",
    "    # Calculate RMSE for this fold\n",
    "    rmse_fold = np.sqrt(mean_squared_error(y_test_fold, y_pred_fold))\n",
    "    rmse_scores.append(rmse_fold)\n",
    "\n",
    "# Calculate the average RMSE over all folds\n",
    "avg_rmse = np.mean(rmse_scores)\n",
    "print(f'Average RMSE across TimeSeriesSplit folds: {avg_rmse}')\n",
    "\n",
    "# Now, fit the stacking regressor on the full training data\n",
    "stacking_regressor.fit(X_train, y_train)\n",
    "\n",
    "# Make final predictions on the test set\n",
    "y_pred_stacking = stacking_regressor.predict(X_test)\n",
    "\n",
    "# Evaluate the final Stacking Model's performance on the test set\n",
    "final_rmse_stacking = np.sqrt(mean_squared_error(y_test, y_pred_stacking))\n",
    "print(f'Final Stacking Model RMSE on the test set: {final_rmse_stacking}')\n"
   ]
  },
  {
   "cell_type": "markdown",
   "metadata": {},
   "source": [
    "<div class=\"alert alert-success\" style=\"border-radius: 15px; box-shadow: 4px 4px 4px; border: 1px solid \">\n",
    "<h2> Reviewer's comment</h2>\n",
    "    \n",
    "Nice code!\n",
    "</div>\n",
    "<div class=\"alert alert-danger\" style=\"border-radius: 15px; box-shadow: 4px 4px 4px; border: 1px solid \">\n",
    "<b> Reviewer's comment</b>\n",
    "    \n",
    "However, when we work with time series, we have to remember about the correct order in the data. To ensure that the training data always precedes the test data in time, we have to employ the `TimeSeriesSplit` class, a cross-validator for time series. Just use it as `cv` parameter value.\n",
    "\n",
    "</div>\n",
    "<div class=\"alert alert-danger\" style=\"border-radius: 15px; box-shadow: 4px 4px 4px; border: 1px solid \">\n",
    "<b>   Reviewer's comment 2 </b>\n",
    "    \n",
    "Would you fix the issue here as well? \n",
    "\n",
    "\n",
    "If you want to use `stacking_regressor`, it may be useful to mannually split the data using the `TimeSeriesSplit`.</div>\n",
    "<div class=\"alert alert-success\" style=\"border-radius: 15px; box-shadow: 4px 4px 4px; border: 1px solid \">\n",
    "<h2>   Reviewer's comment 3 </h2>\n",
    "    \n",
    "Makes sense. \n",
    "\n",
    "</div>"
   ]
  },
  {
   "cell_type": "code",
   "execution_count": 7,
   "metadata": {},
   "outputs": [
    {
     "name": "stdout",
     "output_type": "stream",
     "text": [
      "Linear Regression RMSE for fold: 22.87\n",
      "Linear Regression RMSE for fold: 24.85\n",
      "Linear Regression RMSE for fold: 25.90\n",
      "Linear Regression RMSE for fold: 27.80\n",
      "Linear Regression RMSE for fold: 34.29\n",
      "Linear Regression RMSE (Test set): 46.43\n"
     ]
    }
   ],
   "source": [
    "# Step 9: Train models\n",
    "\n",
    "# Linear Regression Model with TimeSeriesSplit\n",
    "lr_model = LinearRegression()\n",
    "\n",
    "for train_index, test_index in tscv.split(X_train):\n",
    "    # Use .iloc for indexing when working with pandas DataFrames\n",
    "    X_train_fold, X_val_fold = X_train.iloc[train_index], X_train.iloc[test_index]\n",
    "    y_train_fold, y_val_fold = y_train.iloc[train_index], y_train.iloc[test_index]\n",
    "    \n",
    "    lr_model.fit(X_train_fold, y_train_fold)\n",
    "    y_pred_lr = lr_model.predict(X_val_fold)\n",
    "    rmse_lr = np.sqrt(mean_squared_error(y_val_fold, y_pred_lr))\n",
    "    print(f'Linear Regression RMSE for fold: {rmse_lr:.2f}')\n",
    "\n",
    "# Evaluate on the full test set after cross-validation\n",
    "y_pred_lr_test = lr_model.predict(X_test)\n",
    "rmse_lr_test = np.sqrt(mean_squared_error(y_test, y_pred_lr_test))\n",
    "print(f'Linear Regression RMSE (Test set): {rmse_lr_test:.2f}')\n"
   ]
  },
  {
   "cell_type": "code",
   "execution_count": 8,
   "metadata": {},
   "outputs": [
    {
     "name": "stdout",
     "output_type": "stream",
     "text": [
      "Random Forest RMSE for fold: 22.68\n",
      "Random Forest RMSE for fold: 22.33\n",
      "Random Forest RMSE for fold: 24.12\n",
      "Random Forest RMSE for fold: 24.69\n",
      "Random Forest RMSE for fold: 31.82\n",
      "Random Forest RMSE (Test set): 48.86\n"
     ]
    }
   ],
   "source": [
    "# Random Forest model with TimeSeriesSplit\n",
    "rf_model = RandomForestRegressor(random_state=42)\n",
    "\n",
    "\n",
    "# Use .iloc for indexing when working with pandas DataFrames\n",
    "for train_index, test_index in tscv.split(X_train):\n",
    "    X_train_fold, X_val_fold = X_train.iloc[train_index], X_train.iloc[test_index]\n",
    "    y_train_fold, y_val_fold = y_train.iloc[train_index], y_train.iloc[test_index]\n",
    "    \n",
    "    rf_model.fit(X_train_fold, y_train_fold)\n",
    "    y_pred_rf = rf_model.predict(X_val_fold)\n",
    "    rmse_rf = np.sqrt(mean_squared_error(y_val_fold, y_pred_rf))\n",
    "    print(f'Random Forest RMSE for fold: {rmse_rf:.2f}')\n",
    "    \n",
    "# Evaluate on the full test set after cross-validation\n",
    "y_pred_rf_test = rf_model.predict(X_test)\n",
    "rmse_rf_test = np.sqrt(mean_squared_error(y_test, y_pred_rf_test))\n",
    "print(f'Random Forest RMSE (Test set): {rmse_rf_test:.2f}')\n"
   ]
  },
  {
   "cell_type": "code",
   "execution_count": 9,
   "metadata": {},
   "outputs": [
    {
     "name": "stdout",
     "output_type": "stream",
     "text": [
      "Random Forest RMSE (Tuned with TimeSeriesSplit): 43.58\n"
     ]
    }
   ],
   "source": [
    "from sklearn.model_selection import RandomizedSearchCV\n",
    "\n",
    "# Define the parameter grid for Random Forest\n",
    "param_grid = {\n",
    "    'n_estimators': [50, 100, 200],\n",
    "    'max_depth': [5, 10, 20],\n",
    "    'min_samples_split': [2, 5, 10],\n",
    "    'min_samples_leaf': [1, 2, 4]\n",
    "}\n",
    "\n",
    "# Initialize Random Forest model\n",
    "rf_model = RandomForestRegressor(random_state=42)\n",
    "\n",
    "# Use RandomizedSearchCV with TimeSeriesSplit\n",
    "random_search = RandomizedSearchCV(\n",
    "    estimator=rf_model, \n",
    "    param_distributions=param_grid, \n",
    "    n_iter=50, \n",
    "    cv=tscv,  # Use TimeSeriesSplit instead of default cross-validation\n",
    "    scoring='neg_mean_squared_error', \n",
    "    random_state=42, \n",
    "    n_jobs=-1\n",
    ")\n",
    "\n",
    "# Fit the model\n",
    "random_search.fit(X_train, y_train)\n",
    "\n",
    "# Get the best model\n",
    "best_rf_model = random_search.best_estimator_\n",
    "\n",
    "# Make predictions on the test set\n",
    "y_pred_rf = best_rf_model.predict(X_test)\n",
    "\n",
    "# Calculate and print RMSE\n",
    "rmse_rf_tuned = np.sqrt(mean_squared_error(y_test, y_pred_rf))\n",
    "print(f\"Random Forest RMSE (Tuned with TimeSeriesSplit): {rmse_rf_tuned:.2f}\")\n"
   ]
  },
  {
   "cell_type": "markdown",
   "metadata": {},
   "source": [
    "<div class=\"alert alert-danger\" style=\"border-radius: 15px; box-shadow: 4px 4px 4px; border: 1px solid \">\n",
    "<b> Reviewer's comment</b>\n",
    "    \n",
    "    \n",
    "Same issue. \n",
    "</div>\n",
    "<div class=\"alert alert-danger\" style=\"border-radius: 15px; box-shadow: 4px 4px 4px; border: 1px solid \">\n",
    "<b> Reviewer's comment 2</b>\n",
    "    \n",
    "    \n",
    "Still relevant. </div>\n",
    "<div class=\"alert alert-danger\" style=\"border-radius: 15px; box-shadow: 4px 4px 4px; border: 1px solid \">\n",
    "<b> Reviewer's comment 3</b>\n",
    "    \n",
    "    \n",
    "We have to use `TimeSeriesSplit` with time series.  </div>\n",
    "<div class=\"alert alert-danger\" style=\"border-radius: 15px; box-shadow: 4px 4px 4px; border: 1px solid \">\n",
    "<b>   Reviewer's comment 4 </b>\n",
    "    \n",
    "You are still using `GridSearchCV` in the cell above and then you're using it below. We should use `TimeSeriesSplit` with time series because series should not be shuffled. \n",
    "\n",
    "</div>\n"
   ]
  },
  {
   "cell_type": "markdown",
   "metadata": {},
   "source": [
    "## Testing"
   ]
  },
  {
   "cell_type": "code",
   "execution_count": 10,
   "metadata": {},
   "outputs": [
    {
     "name": "stdout",
     "output_type": "stream",
     "text": [
      "Best Random Forest RMSE: 43.58216556297753\n"
     ]
    }
   ],
   "source": [
    "# Get the best model and calculate RMSE\n",
    "y_pred_best_rf = best_rf_model.predict(X_test)\n",
    "rmse_best_rf = np.sqrt(mean_squared_error(y_test, y_pred_best_rf))\n",
    "print(f'Best Random Forest RMSE: {rmse_best_rf}')"
   ]
  },
  {
   "cell_type": "code",
   "execution_count": 11,
   "metadata": {},
   "outputs": [
    {
     "name": "stdout",
     "output_type": "stream",
     "text": [
      "Success! The model’s RMSE is 43.58216556297753, which is less than 48.\n"
     ]
    }
   ],
   "source": [
    "# Step 11: Conclusion\n",
    "if rmse_best_rf < 48:\n",
    "    print(f'Success! The model’s RMSE is {rmse_best_rf}, which is less than 48.')\n",
    "else:\n",
    "    print(f'The model’s RMSE is {rmse_best_rf}. Try improving the model further.')"
   ]
  },
  {
   "cell_type": "markdown",
   "metadata": {},
   "source": [
    "<div class=\"alert alert-danger\" style=\"border-radius: 15px; box-shadow: 4px 4px 4px; border: 1px solid \">\n",
    "<b> Reviewer's comment</b>\n",
    "    \n",
    "    \n",
    "- \n",
    "> Try improving the model further.\n",
    "    \n",
    "    \n",
    "Good advice! Would you try? This is the main goal of the project. \n",
    "    \n",
    "    \n",
    "    \n",
    "    \n",
    "- Please don't forget about the general conclusion. What has been done and what can be inferred from the results? \n",
    "\n",
    "</div>"
   ]
  },
  {
   "cell_type": "markdown",
   "metadata": {},
   "source": [
    "## Conclusion\n",
    "\n",
    "The objective of this project was to develop a model to predict the number of taxi orders for the next hour at the Sweet Lift Taxi company. Our target was to achieve a model with an RMSE (Root Mean Squared Error) below 48 on the test set. After applying feature engineering and experimenting with various models, we successfully improved the model's performance. Below are the key findings and conclusions:\n",
    "\n",
    "### 1. **Feature Engineering**\n",
    "- We introduced several important features to the dataset, including:\n",
    "  - **Lag features**: The number of taxi orders in the previous hour (`lag_1`), two hours prior (`lag_2`), and the same hour on the previous day (`lag_24`).\n",
    "  - **Rolling features**: A 3-hour rolling mean (`rolling_mean_3`) and a 24-hour rolling mean (`rolling_mean_24`), capturing the temporal patterns in taxi demand.\n",
    "  - **Time-based features**: The hour of the day and the day of the week were added to account for daily and weekly seasonality in the data.\n",
    "\n",
    "These engineered features helped the models better capture temporal dependencies and patterns in the data.\n",
    "\n",
    "### 2. **Model Performance After Feature Engineering**\n",
    "After applying feature engineering, the models were re-trained and evaluated on the test set. Here are the updated RMSE results:\n",
    "\n",
    "- **Linear Regression**: RMSE = **46.40**\n",
    "  - While the linear regression model improved slightly, it still struggled to capture the complexity of the data, especially the non-linear relationships and temporal patterns.\n",
    "  \n",
    "- **Random Forest** (with hyperparameter tuning): RMSE = **43.58**\n",
    "  - Random Forest showed significant improvement after feature engineering and hyperparameter tuning, bringing the RMSE below the target of 48. The model benefited from the additional lag and rolling features, which helped it learn more complex relationships.\n",
    "  \n",
    "  \n",
    "### 3. **TimeSeriesSplit Cross-Validation**\n",
    "To ensure that the model generalizes well to unseen data, we used **TimeSeriesSplit** cross-validation, which maintains the temporal order of the data and avoids data leakage. This approach resulted in a significant improvement in performance:\n",
    "- **TimeSeriesSplit CV RMSE**: **27.85**\n",
    "  - This method provided the best result during cross-validation, indicating that the model generalizes well over different time periods.\n",
    "\n",
    "### 4. **Ensemble and Stacking Models**\n",
    "We tested two advanced methods to improve the model's performance further:\n",
    "1. **Ensemble Model**: We combined the predictions of the Random Forest, LightGBM, and XGBoost models into an **ensemble model** (using simple averaging). The ensemble model achieved the following performance:\n",
    "   - **Ensemble Model RMSE** = **44.90**\n",
    "     - The ensemble method provided a slight improvement over the individual models and delivered better overall performance.\n",
    "\n",
    "2. **Stacking Model**: A **stacking model** was used to further improve prediction accuracy by combining the outputs of the models into a meta-learner. This approach yielded the best overall performance:\n",
    "   - **Stacking Model RMSE** = **41.77**\n",
    "     - The stacking model outperformed the ensemble method and individual models, delivering the lowest RMSE.\n",
    "\n",
    "### 5. **Conclusion**\n",
    "- After applying **feature engineering**, **TimeSeriesSplit cross-validation**, **ensemble methods**, and **stacking**, we were able to achieve an RMSE of **41.77** with the stacking model and an RMSE of **27.85** with **TimeSeriesSplit CV**, significantly improving the model's accuracy and generalization.\n",
    "- **Lag features** and **rolling averages** proved to be crucial in improving model performance, as they helped the models capture temporal dependencies in taxi demand.\n",
    "- The **stacking model** provided the best test set performance, while **TimeSeriesSplit** showed that the model generalizes exceptionally well to unseen data.\n",
    "- While we successfully reduced the RMSE to meet the project requirements, further improvements could be made by incorporating additional external features, such as weather data, holidays, or traffic conditions, which could provide further insights into taxi demand.\n",
    "\n",
    "Overall, the project was successful in developing a predictive model for taxi demand that not only met but exceeded the required RMSE target, providing valuable insights for improving driver availability during peak times.\n"
   ]
  },
  {
   "cell_type": "markdown",
   "metadata": {},
   "source": [
    "<div class=\"alert alert-success\" style=\"border-radius: 15px; box-shadow: 4px 4px 4px; border: 1px solid \">\n",
    "<h2>   Reviewer's comment 2 </h2>\n",
    "    \n",
    "Great conclusion! \n",
    "</div>"
   ]
  },
  {
   "cell_type": "markdown",
   "metadata": {},
   "source": [
    "# Review checklist"
   ]
  },
  {
   "cell_type": "markdown",
   "metadata": {},
   "source": [
    "- [x]  Jupyter Notebook is open\n",
    "- [ ]  The code is error-free\n",
    "- [ ]  The cells with the code have been arranged in order of execution\n",
    "- [ ]  The data has been downloaded and prepared\n",
    "- [ ]  The data has been analyzed\n",
    "- [ ]  The model has been trained and hyperparameters have been selected\n",
    "- [ ]  The models have been evaluated. Conclusion has been provided\n",
    "- [ ] *RMSE* for the test set is not more than 48"
   ]
  }
 ],
 "metadata": {
  "ExecuteTimeLog": [
   {
    "duration": 2935,
    "start_time": "2024-10-01T23:04:06.791Z"
   },
   {
    "duration": 205,
    "start_time": "2024-10-01T23:04:50.839Z"
   },
   {
    "duration": 35,
    "start_time": "2024-10-01T23:05:51.448Z"
   },
   {
    "duration": 216,
    "start_time": "2024-10-01T23:05:58.734Z"
   },
   {
    "duration": 35,
    "start_time": "2024-10-01T23:06:02.724Z"
   },
   {
    "duration": 29,
    "start_time": "2024-10-01T23:06:13.535Z"
   },
   {
    "duration": 1020,
    "start_time": "2024-10-01T23:09:44.082Z"
   },
   {
    "duration": 275,
    "start_time": "2024-10-01T23:09:45.105Z"
   },
   {
    "duration": 12,
    "start_time": "2024-10-01T23:09:45.383Z"
   },
   {
    "duration": 4,
    "start_time": "2024-10-01T23:09:45.397Z"
   },
   {
    "duration": 12,
    "start_time": "2024-10-01T23:09:45.403Z"
   },
   {
    "duration": 724,
    "start_time": "2024-10-01T23:09:45.417Z"
   },
   {
    "duration": 51383,
    "start_time": "2024-10-01T23:09:46.143Z"
   },
   {
    "duration": 4,
    "start_time": "2024-10-01T23:10:37.527Z"
   },
   {
    "duration": 5,
    "start_time": "2024-10-01T23:14:25.346Z"
   },
   {
    "duration": 1034,
    "start_time": "2024-10-01T23:26:20.164Z"
   },
   {
    "duration": 297,
    "start_time": "2024-10-01T23:26:21.201Z"
   },
   {
    "duration": 11,
    "start_time": "2024-10-01T23:26:21.499Z"
   },
   {
    "duration": 13,
    "start_time": "2024-10-01T23:26:21.511Z"
   },
   {
    "duration": 9,
    "start_time": "2024-10-01T23:26:21.527Z"
   },
   {
    "duration": 747,
    "start_time": "2024-10-01T23:26:21.538Z"
   },
   {
    "duration": 991,
    "start_time": "2024-10-01T23:26:58.640Z"
   },
   {
    "duration": 254,
    "start_time": "2024-10-01T23:26:59.634Z"
   },
   {
    "duration": 12,
    "start_time": "2024-10-01T23:26:59.890Z"
   },
   {
    "duration": 4,
    "start_time": "2024-10-01T23:26:59.905Z"
   },
   {
    "duration": 7,
    "start_time": "2024-10-01T23:26:59.911Z"
   },
   {
    "duration": 696,
    "start_time": "2024-10-01T23:26:59.919Z"
   },
   {
    "duration": 50420,
    "start_time": "2024-10-01T23:27:00.617Z"
   },
   {
    "duration": 19,
    "start_time": "2024-10-01T23:27:51.039Z"
   },
   {
    "duration": 3,
    "start_time": "2024-10-01T23:27:51.062Z"
   },
   {
    "duration": 245,
    "start_time": "2024-10-01T23:35:05.076Z"
   },
   {
    "duration": 967,
    "start_time": "2024-10-01T23:35:35.601Z"
   },
   {
    "duration": 277,
    "start_time": "2024-10-01T23:35:36.571Z"
   },
   {
    "duration": 11,
    "start_time": "2024-10-01T23:35:36.851Z"
   },
   {
    "duration": 586,
    "start_time": "2024-10-01T23:35:36.865Z"
   },
   {
    "duration": 0,
    "start_time": "2024-10-01T23:35:37.454Z"
   },
   {
    "duration": 0,
    "start_time": "2024-10-01T23:35:37.455Z"
   },
   {
    "duration": 0,
    "start_time": "2024-10-01T23:35:37.456Z"
   },
   {
    "duration": 0,
    "start_time": "2024-10-01T23:35:37.457Z"
   },
   {
    "duration": 0,
    "start_time": "2024-10-01T23:35:37.458Z"
   },
   {
    "duration": 0,
    "start_time": "2024-10-01T23:35:37.459Z"
   },
   {
    "duration": 5,
    "start_time": "2024-10-01T23:37:53.046Z"
   },
   {
    "duration": 999,
    "start_time": "2024-10-01T23:38:02.854Z"
   },
   {
    "duration": 269,
    "start_time": "2024-10-01T23:38:03.855Z"
   },
   {
    "duration": 11,
    "start_time": "2024-10-01T23:38:04.126Z"
   },
   {
    "duration": 4,
    "start_time": "2024-10-01T23:38:04.140Z"
   },
   {
    "duration": 252,
    "start_time": "2024-10-01T23:38:04.145Z"
   },
   {
    "duration": 0,
    "start_time": "2024-10-01T23:38:04.399Z"
   },
   {
    "duration": 0,
    "start_time": "2024-10-01T23:38:04.403Z"
   },
   {
    "duration": 0,
    "start_time": "2024-10-01T23:38:04.411Z"
   },
   {
    "duration": 0,
    "start_time": "2024-10-01T23:38:04.412Z"
   },
   {
    "duration": 0,
    "start_time": "2024-10-01T23:38:04.413Z"
   },
   {
    "duration": 1113,
    "start_time": "2024-10-01T23:39:17.930Z"
   },
   {
    "duration": 202,
    "start_time": "2024-10-01T23:39:19.046Z"
   },
   {
    "duration": 13,
    "start_time": "2024-10-01T23:39:19.250Z"
   },
   {
    "duration": 5,
    "start_time": "2024-10-01T23:39:19.264Z"
   },
   {
    "duration": 394840,
    "start_time": "2024-10-01T23:39:19.272Z"
   },
   {
    "duration": 8,
    "start_time": "2024-10-01T23:45:54.114Z"
   },
   {
    "duration": 725,
    "start_time": "2024-10-01T23:45:54.126Z"
   },
   {
    "duration": 51999,
    "start_time": "2024-10-01T23:45:54.855Z"
   },
   {
    "duration": 21,
    "start_time": "2024-10-01T23:46:46.856Z"
   },
   {
    "duration": 4,
    "start_time": "2024-10-01T23:46:46.879Z"
   },
   {
    "duration": 849,
    "start_time": "2024-10-02T11:51:17.902Z"
   },
   {
    "duration": 2655,
    "start_time": "2024-10-02T11:51:26.736Z"
   },
   {
    "duration": 205,
    "start_time": "2024-10-02T11:51:29.394Z"
   },
   {
    "duration": 10,
    "start_time": "2024-10-02T11:51:29.601Z"
   },
   {
    "duration": 5,
    "start_time": "2024-10-02T11:51:29.613Z"
   },
   {
    "duration": 1923,
    "start_time": "2024-10-02T11:51:29.619Z"
   },
   {
    "duration": 9466,
    "start_time": "2024-10-02T11:51:31.544Z"
   },
   {
    "duration": 7,
    "start_time": "2024-10-02T11:51:41.011Z"
   },
   {
    "duration": 707,
    "start_time": "2024-10-02T11:51:41.020Z"
   },
   {
    "duration": 50078,
    "start_time": "2024-10-02T11:51:41.729Z"
   },
   {
    "duration": 15,
    "start_time": "2024-10-02T11:52:31.810Z"
   },
   {
    "duration": 3,
    "start_time": "2024-10-02T11:52:31.827Z"
   },
   {
    "duration": 70278,
    "start_time": "2024-10-02T11:55:11.296Z"
   },
   {
    "duration": 798,
    "start_time": "2024-10-02T11:57:48.117Z"
   },
   {
    "duration": 1012,
    "start_time": "2024-10-02T11:57:57.568Z"
   },
   {
    "duration": 201,
    "start_time": "2024-10-02T11:57:58.582Z"
   },
   {
    "duration": 11,
    "start_time": "2024-10-02T11:57:58.785Z"
   },
   {
    "duration": 4,
    "start_time": "2024-10-02T11:57:58.799Z"
   },
   {
    "duration": 1925,
    "start_time": "2024-10-02T11:57:58.804Z"
   },
   {
    "duration": 9656,
    "start_time": "2024-10-02T11:58:00.731Z"
   },
   {
    "duration": 7,
    "start_time": "2024-10-02T11:58:10.388Z"
   },
   {
    "duration": 681,
    "start_time": "2024-10-02T11:58:10.397Z"
   },
   {
    "duration": 70281,
    "start_time": "2024-10-02T11:58:11.080Z"
   },
   {
    "duration": 50000,
    "start_time": "2024-10-02T11:59:21.364Z"
   },
   {
    "duration": 823,
    "start_time": "2024-10-02T12:00:11.366Z"
   },
   {
    "duration": 17,
    "start_time": "2024-10-02T12:00:12.191Z"
   },
   {
    "duration": 3,
    "start_time": "2024-10-02T12:00:12.210Z"
   },
   {
    "duration": 226,
    "start_time": "2024-10-02T12:03:39.418Z"
   },
   {
    "duration": 20,
    "start_time": "2024-10-02T12:04:05.936Z"
   },
   {
    "duration": 9,
    "start_time": "2024-10-02T12:04:31.520Z"
   },
   {
    "duration": 1048,
    "start_time": "2024-10-02T12:05:23.224Z"
   },
   {
    "duration": 213,
    "start_time": "2024-10-02T12:05:24.274Z"
   },
   {
    "duration": 14,
    "start_time": "2024-10-02T12:05:24.490Z"
   },
   {
    "duration": 237,
    "start_time": "2024-10-02T12:05:24.508Z"
   },
   {
    "duration": 0,
    "start_time": "2024-10-02T12:05:24.747Z"
   },
   {
    "duration": 0,
    "start_time": "2024-10-02T12:05:24.748Z"
   },
   {
    "duration": 0,
    "start_time": "2024-10-02T12:05:24.749Z"
   },
   {
    "duration": 0,
    "start_time": "2024-10-02T12:05:24.751Z"
   },
   {
    "duration": 0,
    "start_time": "2024-10-02T12:05:24.752Z"
   },
   {
    "duration": 0,
    "start_time": "2024-10-02T12:05:24.753Z"
   },
   {
    "duration": 0,
    "start_time": "2024-10-02T12:05:24.753Z"
   },
   {
    "duration": 0,
    "start_time": "2024-10-02T12:05:24.754Z"
   },
   {
    "duration": 0,
    "start_time": "2024-10-02T12:05:24.755Z"
   },
   {
    "duration": 1021,
    "start_time": "2024-10-02T12:05:41.258Z"
   },
   {
    "duration": 208,
    "start_time": "2024-10-02T12:05:42.281Z"
   },
   {
    "duration": 12,
    "start_time": "2024-10-02T12:05:42.492Z"
   },
   {
    "duration": 4,
    "start_time": "2024-10-02T12:05:42.506Z"
   },
   {
    "duration": 3280,
    "start_time": "2024-10-02T12:05:42.512Z"
   },
   {
    "duration": 14824,
    "start_time": "2024-10-02T12:05:45.794Z"
   },
   {
    "duration": 6,
    "start_time": "2024-10-02T12:06:00.620Z"
   },
   {
    "duration": 1302,
    "start_time": "2024-10-02T12:06:00.628Z"
   },
   {
    "duration": 118557,
    "start_time": "2024-10-02T12:06:01.931Z"
   },
   {
    "duration": 87987,
    "start_time": "2024-10-02T12:08:00.490Z"
   },
   {
    "duration": 2232,
    "start_time": "2024-10-02T12:09:28.480Z"
   },
   {
    "duration": 16,
    "start_time": "2024-10-02T12:09:30.714Z"
   },
   {
    "duration": 55,
    "start_time": "2024-10-02T12:09:30.732Z"
   },
   {
    "duration": 1035,
    "start_time": "2024-10-02T12:17:04.630Z"
   },
   {
    "duration": 199,
    "start_time": "2024-10-02T12:17:05.668Z"
   },
   {
    "duration": 13,
    "start_time": "2024-10-02T12:17:05.869Z"
   },
   {
    "duration": 5,
    "start_time": "2024-10-02T12:17:05.884Z"
   },
   {
    "duration": 3270,
    "start_time": "2024-10-02T12:17:05.891Z"
   },
   {
    "duration": 14947,
    "start_time": "2024-10-02T12:17:09.163Z"
   },
   {
    "duration": 7,
    "start_time": "2024-10-02T12:17:24.112Z"
   },
   {
    "duration": 1265,
    "start_time": "2024-10-02T12:17:24.121Z"
   },
   {
    "duration": 118638,
    "start_time": "2024-10-02T12:17:25.387Z"
   },
   {
    "duration": 88037,
    "start_time": "2024-10-02T12:19:24.027Z"
   },
   {
    "duration": 25,
    "start_time": "2024-10-02T12:20:52.066Z"
   },
   {
    "duration": 3,
    "start_time": "2024-10-02T12:20:52.093Z"
   },
   {
    "duration": 2731,
    "start_time": "2024-10-02T15:52:55.964Z"
   },
   {
    "duration": 218,
    "start_time": "2024-10-02T15:52:58.697Z"
   },
   {
    "duration": 13,
    "start_time": "2024-10-02T15:52:58.917Z"
   },
   {
    "duration": 5,
    "start_time": "2024-10-02T15:52:58.932Z"
   },
   {
    "duration": 3322,
    "start_time": "2024-10-02T15:52:58.939Z"
   },
   {
    "duration": 3372,
    "start_time": "2024-10-02T15:53:07.874Z"
   },
   {
    "duration": 15039,
    "start_time": "2024-10-02T15:54:49.742Z"
   },
   {
    "duration": 351,
    "start_time": "2024-10-02T15:55:47.341Z"
   },
   {
    "duration": 1096,
    "start_time": "2024-10-02T15:56:44.149Z"
   },
   {
    "duration": 2797,
    "start_time": "2024-10-02T16:14:45.015Z"
   },
   {
    "duration": 199,
    "start_time": "2024-10-02T16:14:47.815Z"
   },
   {
    "duration": 18,
    "start_time": "2024-10-02T16:14:48.016Z"
   },
   {
    "duration": 5,
    "start_time": "2024-10-02T16:14:48.037Z"
   },
   {
    "duration": 3285,
    "start_time": "2024-10-02T16:14:48.044Z"
   },
   {
    "duration": 3313,
    "start_time": "2024-10-02T16:14:51.331Z"
   },
   {
    "duration": 0,
    "start_time": "2024-10-02T16:14:54.646Z"
   },
   {
    "duration": 0,
    "start_time": "2024-10-02T16:14:54.648Z"
   },
   {
    "duration": 0,
    "start_time": "2024-10-02T16:14:54.649Z"
   },
   {
    "duration": 0,
    "start_time": "2024-10-02T16:14:54.651Z"
   },
   {
    "duration": 0,
    "start_time": "2024-10-02T16:14:54.652Z"
   },
   {
    "duration": 0,
    "start_time": "2024-10-02T16:14:54.653Z"
   },
   {
    "duration": 335,
    "start_time": "2024-10-02T16:15:58.975Z"
   },
   {
    "duration": 1043,
    "start_time": "2024-10-02T16:18:22.423Z"
   },
   {
    "duration": 219,
    "start_time": "2024-10-02T16:18:23.468Z"
   },
   {
    "duration": 14,
    "start_time": "2024-10-02T16:18:23.689Z"
   },
   {
    "duration": 5,
    "start_time": "2024-10-02T16:18:23.706Z"
   },
   {
    "duration": 3315,
    "start_time": "2024-10-02T16:18:23.713Z"
   },
   {
    "duration": 61771,
    "start_time": "2024-10-02T16:18:27.030Z"
   },
   {
    "duration": 72,
    "start_time": "2024-10-02T16:19:28.803Z"
   },
   {
    "duration": 1227,
    "start_time": "2024-10-02T16:19:28.877Z"
   },
   {
    "duration": 118929,
    "start_time": "2024-10-02T16:19:30.106Z"
   },
   {
    "duration": 87879,
    "start_time": "2024-10-02T16:21:29.038Z"
   },
   {
    "duration": 18,
    "start_time": "2024-10-02T16:22:56.919Z"
   },
   {
    "duration": 3,
    "start_time": "2024-10-02T16:22:56.939Z"
   },
   {
    "duration": 2831,
    "start_time": "2024-10-03T04:11:47.716Z"
   },
   {
    "duration": 208,
    "start_time": "2024-10-03T04:11:50.549Z"
   },
   {
    "duration": 14,
    "start_time": "2024-10-03T04:11:50.759Z"
   },
   {
    "duration": 5,
    "start_time": "2024-10-03T04:11:50.775Z"
   },
   {
    "duration": 3293,
    "start_time": "2024-10-03T04:11:50.781Z"
   },
   {
    "duration": 63571,
    "start_time": "2024-10-03T04:11:54.075Z"
   },
   {
    "duration": 7,
    "start_time": "2024-10-03T04:12:57.709Z"
   },
   {
    "duration": 1267,
    "start_time": "2024-10-03T04:12:57.717Z"
   },
   {
    "duration": 120222,
    "start_time": "2024-10-03T04:12:58.987Z"
   },
   {
    "duration": 89197,
    "start_time": "2024-10-03T04:14:59.212Z"
   },
   {
    "duration": 17,
    "start_time": "2024-10-03T04:16:28.412Z"
   },
   {
    "duration": 4,
    "start_time": "2024-10-03T04:16:28.431Z"
   },
   {
    "duration": 171,
    "start_time": "2024-10-03T12:04:41.716Z"
   },
   {
    "duration": 2795,
    "start_time": "2024-10-03T12:04:50.682Z"
   },
   {
    "duration": 209,
    "start_time": "2024-10-03T12:04:53.479Z"
   },
   {
    "duration": 15,
    "start_time": "2024-10-03T12:04:53.690Z"
   },
   {
    "duration": 6,
    "start_time": "2024-10-03T12:04:53.707Z"
   },
   {
    "duration": 3298,
    "start_time": "2024-10-03T12:04:53.714Z"
   },
   {
    "duration": 1163,
    "start_time": "2024-10-03T12:05:45.316Z"
   },
   {
    "duration": 235,
    "start_time": "2024-10-03T12:05:46.481Z"
   },
   {
    "duration": 18,
    "start_time": "2024-10-03T12:05:46.718Z"
   },
   {
    "duration": 5,
    "start_time": "2024-10-03T12:05:46.739Z"
   },
   {
    "duration": 3704,
    "start_time": "2024-10-03T12:05:46.746Z"
   },
   {
    "duration": 61988,
    "start_time": "2024-10-03T12:05:50.452Z"
   },
   {
    "duration": 596,
    "start_time": "2024-10-03T12:06:52.442Z"
   },
   {
    "duration": 0,
    "start_time": "2024-10-03T12:06:53.040Z"
   },
   {
    "duration": 0,
    "start_time": "2024-10-03T12:06:53.041Z"
   },
   {
    "duration": 0,
    "start_time": "2024-10-03T12:06:53.042Z"
   },
   {
    "duration": 0,
    "start_time": "2024-10-03T12:06:53.043Z"
   },
   {
    "duration": 0,
    "start_time": "2024-10-03T12:06:53.044Z"
   },
   {
    "duration": 0,
    "start_time": "2024-10-03T12:06:53.045Z"
   },
   {
    "duration": 23,
    "start_time": "2024-10-03T12:08:59.769Z"
   },
   {
    "duration": 41,
    "start_time": "2024-10-03T12:09:22.118Z"
   },
   {
    "duration": 3021,
    "start_time": "2024-10-03T12:10:10.745Z"
   },
   {
    "duration": 3122,
    "start_time": "2024-10-03T12:47:50.915Z"
   },
   {
    "duration": 206,
    "start_time": "2024-10-03T12:47:54.039Z"
   },
   {
    "duration": 13,
    "start_time": "2024-10-03T12:47:54.247Z"
   },
   {
    "duration": 5,
    "start_time": "2024-10-03T12:47:54.262Z"
   },
   {
    "duration": 3367,
    "start_time": "2024-10-03T12:47:54.269Z"
   },
   {
    "duration": 62175,
    "start_time": "2024-10-03T12:47:57.638Z"
   },
   {
    "duration": 26,
    "start_time": "2024-10-03T12:48:59.815Z"
   },
   {
    "duration": 3072,
    "start_time": "2024-10-03T12:48:59.843Z"
   },
   {
    "duration": 120370,
    "start_time": "2024-10-03T12:49:02.917Z"
   },
   {
    "duration": 88668,
    "start_time": "2024-10-03T12:51:03.290Z"
   },
   {
    "duration": 17,
    "start_time": "2024-10-03T12:52:31.960Z"
   },
   {
    "duration": 3,
    "start_time": "2024-10-03T12:52:31.979Z"
   },
   {
    "duration": 1036,
    "start_time": "2024-10-03T13:00:49.617Z"
   },
   {
    "duration": 203,
    "start_time": "2024-10-03T13:00:50.655Z"
   },
   {
    "duration": 13,
    "start_time": "2024-10-03T13:00:50.860Z"
   },
   {
    "duration": 5,
    "start_time": "2024-10-03T13:00:50.875Z"
   },
   {
    "duration": 3274,
    "start_time": "2024-10-03T13:00:50.881Z"
   },
   {
    "duration": 60587,
    "start_time": "2024-10-03T13:00:54.157Z"
   },
   {
    "duration": 23,
    "start_time": "2024-10-03T13:01:54.805Z"
   },
   {
    "duration": 3011,
    "start_time": "2024-10-03T13:01:54.830Z"
   },
   {
    "duration": 118115,
    "start_time": "2024-10-03T13:01:57.843Z"
   },
   {
    "duration": 230,
    "start_time": "2024-10-03T13:03:55.960Z"
   },
   {
    "duration": 0,
    "start_time": "2024-10-03T13:03:56.192Z"
   },
   {
    "duration": 1002,
    "start_time": "2024-10-03T13:04:22.620Z"
   },
   {
    "duration": 188,
    "start_time": "2024-10-03T13:04:23.625Z"
   },
   {
    "duration": 13,
    "start_time": "2024-10-03T13:04:23.815Z"
   },
   {
    "duration": 5,
    "start_time": "2024-10-03T13:04:23.829Z"
   },
   {
    "duration": 3250,
    "start_time": "2024-10-03T13:04:23.836Z"
   },
   {
    "duration": 61126,
    "start_time": "2024-10-03T13:04:27.087Z"
   },
   {
    "duration": 24,
    "start_time": "2024-10-03T13:05:28.215Z"
   },
   {
    "duration": 3029,
    "start_time": "2024-10-03T13:05:28.241Z"
   },
   {
    "duration": 117822,
    "start_time": "2024-10-03T13:05:31.272Z"
   },
   {
    "duration": 14,
    "start_time": "2024-10-03T13:07:29.096Z"
   },
   {
    "duration": 3,
    "start_time": "2024-10-03T13:07:29.112Z"
   }
  ],
  "kernelspec": {
   "display_name": "Python 3 (ipykernel)",
   "language": "python",
   "name": "python3"
  },
  "language_info": {
   "codemirror_mode": {
    "name": "ipython",
    "version": 3
   },
   "file_extension": ".py",
   "mimetype": "text/x-python",
   "name": "python",
   "nbconvert_exporter": "python",
   "pygments_lexer": "ipython3",
   "version": "3.9.19"
  },
  "toc": {
   "base_numbering": 1,
   "nav_menu": {},
   "number_sections": true,
   "sideBar": true,
   "skip_h1_title": true,
   "title_cell": "Table of Contents",
   "title_sidebar": "Contents",
   "toc_cell": false,
   "toc_position": {
    "height": "calc(100% - 180px)",
    "left": "10px",
    "top": "150px",
    "width": "165px"
   },
   "toc_section_display": true,
   "toc_window_display": true
  }
 },
 "nbformat": 4,
 "nbformat_minor": 2
}
